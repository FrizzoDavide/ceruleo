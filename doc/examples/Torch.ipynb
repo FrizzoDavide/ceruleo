{
 "cells": [
  {
   "cell_type": "code",
   "execution_count": null,
   "metadata": {},
   "outputs": [],
   "source": [
    "\n",
    "from example import process_file\n",
    "import matplotlib.pyplot as plt\n",
    "import pandas as pd\n",
    "import numpy as np\n",
    "from sklearn.preprocessing import RobustScaler, MinMaxScaler\n",
    "from sklearn.pipeline import Pipeline\n",
    "import tensorflow as tf\n",
    "\n",
    "\n",
    "\n",
    "from rul_pm.dataset.lives_dataset import AbstractLivesDataset\n",
    "from rul_pm.iterators.iterators import LifeDatasetIterator\n",
    "from rul_pm.transformation.transformers import Transformer, transformation_pipeline, numericals_pipeline\n",
    "from rul_pm.transformation.features.selection import ByNameFeatureSelector\n",
    "from rul_pm.transformation.utils import PandasTransformerWrapper\n",
    "from rul_pm.transformation.outliers import IQROutlierRemover, ZScoreOutlierRemover\n",
    "from rul_pm.transformation.imputers import ForwardFillImputer, PandasMeanImputer\n",
    "from rul_pm.transformation.features.scalers import PandasMinMaxScaler\n",
    "\n",
    "from rul_pm.transformation.resamplers import ResamplerTransformer\n",
    "from rul_pm.iterators.iterators import WindowedDatasetIterator, LifeDatasetIterator\n",
    "from rul_pm.iterators.batcher import get_batcher\n",
    "from rul_pm.models.keras.simple import FCN"
   ]
  },
  {
   "cell_type": "code",
   "execution_count": null,
   "metadata": {},
   "outputs": [],
   "source": []
  }
 ],
 "metadata": {
  "kernelspec": {
   "display_name": "Python 3",
   "language": "python",
   "name": "python3"
  },
  "language_info": {
   "codemirror_mode": {
    "name": "ipython",
    "version": 3
   },
   "file_extension": ".py",
   "mimetype": "text/x-python",
   "name": "python",
   "nbconvert_exporter": "python",
   "pygments_lexer": "ipython3",
   "version": "3.8.6"
  }
 },
 "nbformat": 4,
 "nbformat_minor": 4
}
